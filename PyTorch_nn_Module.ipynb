{
  "nbformat": 4,
  "nbformat_minor": 0,
  "metadata": {
    "colab": {
      "provenance": [],
      "gpuType": "T4"
    },
    "kernelspec": {
      "name": "python3",
      "display_name": "Python 3"
    },
    "language_info": {
      "name": "python"
    },
    "accelerator": "GPU"
  },
  "cells": [
    {
      "cell_type": "code",
      "execution_count": 2,
      "metadata": {
        "id": "WWVIdAcSlVpL"
      },
      "outputs": [],
      "source": [
        "import torch\n",
        "import torch.nn as nn"
      ]
    },
    {
      "cell_type": "code",
      "source": [
        "class Model(nn.Module):  #inheirate from nn.Module\n",
        "    def __init__(self,num_features):\n",
        "\n",
        "      super().__init__() # initilize the nn.Module from thi class\n",
        "      self.linear = nn.Linear(num_features, 1)\n",
        "      self.sigmoid = nn.Sigmoid()\n",
        "\n",
        "    def forward(self, features):\n",
        "      out = self.linear(features) # z = w*x + b\n",
        "      out = self.sigmoid(out) #sigmoid on z\n",
        "\n",
        "      return out\n"
      ],
      "metadata": {
        "id": "Z_v5pGGxlbeO"
      },
      "execution_count": 3,
      "outputs": []
    },
    {
      "cell_type": "code",
      "source": [
        "#create dataset\n",
        "features = torch.rand(10,5)\n",
        "\n",
        "#create model\n",
        "model = Model(features.shape[1])\n",
        "\n",
        "#call model for forward pass\n",
        "model(features)       # no model.forward(features) because nn.Module have overwrite the magic method"
      ],
      "metadata": {
        "colab": {
          "base_uri": "https://localhost:8080/"
        },
        "id": "0hng-2bjqCCQ",
        "outputId": "d477422c-55a6-4b58-fb8d-eade9c09c385"
      },
      "execution_count": 4,
      "outputs": [
        {
          "output_type": "execute_result",
          "data": {
            "text/plain": [
              "tensor([[0.3016],\n",
              "        [0.2708],\n",
              "        [0.4073],\n",
              "        [0.3718],\n",
              "        [0.2916],\n",
              "        [0.3060],\n",
              "        [0.3418],\n",
              "        [0.3090],\n",
              "        [0.3574],\n",
              "        [0.2764]], grad_fn=<SigmoidBackward0>)"
            ]
          },
          "metadata": {},
          "execution_count": 4
        }
      ]
    },
    {
      "cell_type": "code",
      "source": [
        "#magic method __call__\n",
        "class MyClass:\n",
        "    def __init__(self, value):\n",
        "        self.value = value  # Store the initial value\n",
        "\n",
        "    def add(self, x):\n",
        "        self.value += x  # Add x to self.value\n",
        "        return self.value\n",
        "\n",
        "    def __call__(self, x):\n",
        "        print(self.add(x))\n",
        "\n",
        "# Create an instance\n",
        "obj = MyClass(5)\n",
        "obj(2)"
      ],
      "metadata": {
        "colab": {
          "base_uri": "https://localhost:8080/"
        },
        "id": "48Xu8lVvuvAY",
        "outputId": "69d8fbc8-faaf-42ef-98ac-f436836051ce"
      },
      "execution_count": 16,
      "outputs": [
        {
          "output_type": "stream",
          "name": "stdout",
          "text": [
            "7\n"
          ]
        }
      ]
    },
    {
      "cell_type": "code",
      "source": [
        "#show weights of parameters\n",
        "model.linear.weight"
      ],
      "metadata": {
        "colab": {
          "base_uri": "https://localhost:8080/"
        },
        "id": "YgawxmDLqV0W",
        "outputId": "50022676-b459-4dd2-caeb-81e37c4d1ccd"
      },
      "execution_count": 7,
      "outputs": [
        {
          "output_type": "execute_result",
          "data": {
            "text/plain": [
              "Parameter containing:\n",
              "tensor([[-0.1177, -0.3179, -0.2706, -0.3993,  0.2984]], requires_grad=True)"
            ]
          },
          "metadata": {},
          "execution_count": 7
        }
      ]
    },
    {
      "cell_type": "code",
      "source": [
        "#show bias\n",
        "model.linear.bias"
      ],
      "metadata": {
        "colab": {
          "base_uri": "https://localhost:8080/"
        },
        "id": "UX_3nc-JqyMK",
        "outputId": "5145b5d2-4948-4d3a-ddd0-8a9e868f0366"
      },
      "execution_count": 8,
      "outputs": [
        {
          "output_type": "execute_result",
          "data": {
            "text/plain": [
              "Parameter containing:\n",
              "tensor([-0.2579], requires_grad=True)"
            ]
          },
          "metadata": {},
          "execution_count": 8
        }
      ]
    },
    {
      "cell_type": "code",
      "source": [
        "!pip install torchinfo"
      ],
      "metadata": {
        "colab": {
          "base_uri": "https://localhost:8080/"
        },
        "id": "75NZpqk_rIFZ",
        "outputId": "bfbd7e5d-60fa-418e-92ff-2767ae999196"
      },
      "execution_count": 17,
      "outputs": [
        {
          "output_type": "stream",
          "name": "stdout",
          "text": [
            "Collecting torchinfo\n",
            "  Downloading torchinfo-1.8.0-py3-none-any.whl.metadata (21 kB)\n",
            "Downloading torchinfo-1.8.0-py3-none-any.whl (23 kB)\n",
            "Installing collected packages: torchinfo\n",
            "Successfully installed torchinfo-1.8.0\n"
          ]
        }
      ]
    },
    {
      "cell_type": "code",
      "source": [
        "from torchinfo import summary\n",
        "summary(model, input_size=(10,5))"
      ],
      "metadata": {
        "colab": {
          "base_uri": "https://localhost:8080/"
        },
        "id": "hAz7YEr2vm7M",
        "outputId": "29359443-515c-4d16-de05-5c47badcff23"
      },
      "execution_count": 19,
      "outputs": [
        {
          "output_type": "execute_result",
          "data": {
            "text/plain": [
              "==========================================================================================\n",
              "Layer (type:depth-idx)                   Output Shape              Param #\n",
              "==========================================================================================\n",
              "Model                                    [10, 1]                   --\n",
              "├─Linear: 1-1                            [10, 1]                   6\n",
              "├─Sigmoid: 1-2                           [10, 1]                   --\n",
              "==========================================================================================\n",
              "Total params: 6\n",
              "Trainable params: 6\n",
              "Non-trainable params: 0\n",
              "Total mult-adds (Units.MEGABYTES): 0.00\n",
              "==========================================================================================\n",
              "Input size (MB): 0.00\n",
              "Forward/backward pass size (MB): 0.00\n",
              "Params size (MB): 0.00\n",
              "Estimated Total Size (MB): 0.00\n",
              "=========================================================================================="
            ]
          },
          "metadata": {},
          "execution_count": 19
        }
      ]
    },
    {
      "cell_type": "code",
      "source": [],
      "metadata": {
        "id": "V19UK1k7vryY"
      },
      "execution_count": null,
      "outputs": []
    },
    {
      "cell_type": "markdown",
      "source": [
        "##Level up / A bit complex network"
      ],
      "metadata": {
        "id": "s_kK5XKIwntp"
      }
    },
    {
      "cell_type": "code",
      "source": [
        "class Model1(nn.Module):\n",
        "  def __init__(self, num_features):\n",
        "    super().__init__()\n",
        "    self.l1 = nn.Linear(num_features, 3)\n",
        "    self.relu = nn.ReLU()\n",
        "    self.l2 = nn.Linear(3 , 1)\n",
        "    self.sigmoid = nn.Sigmoid()\n",
        "\n",
        "  def forward(self, features):\n",
        "    out = self.l1(features)\n",
        "    out = self.relu(out)\n",
        "    out = self.l2(out)\n",
        "    out = self.sigmoid(out)\n",
        "    return out"
      ],
      "metadata": {
        "id": "3pOuLD5twtSd"
      },
      "execution_count": 32,
      "outputs": []
    },
    {
      "cell_type": "code",
      "source": [
        "features1 = torch.rand(20,5)"
      ],
      "metadata": {
        "id": "wPi0wtMAxo_X"
      },
      "execution_count": 33,
      "outputs": []
    },
    {
      "cell_type": "code",
      "source": [
        "model1 = Model1(features1.shape[1])"
      ],
      "metadata": {
        "id": "i7aFCg1rxtDe"
      },
      "execution_count": 34,
      "outputs": []
    },
    {
      "cell_type": "code",
      "source": [
        "model1(features1)"
      ],
      "metadata": {
        "colab": {
          "base_uri": "https://localhost:8080/"
        },
        "id": "7AgmyBVjxvL2",
        "outputId": "6124854f-e20a-457d-8c8b-beda52efe2f4"
      },
      "execution_count": 37,
      "outputs": [
        {
          "output_type": "execute_result",
          "data": {
            "text/plain": [
              "tensor([[0.6285],\n",
              "        [0.6285],\n",
              "        [0.6283],\n",
              "        [0.6318],\n",
              "        [0.6285],\n",
              "        [0.6285],\n",
              "        [0.6306],\n",
              "        [0.6285],\n",
              "        [0.6284],\n",
              "        [0.6283],\n",
              "        [0.6293],\n",
              "        [0.6284],\n",
              "        [0.6284],\n",
              "        [0.6285],\n",
              "        [0.6285],\n",
              "        [0.6284],\n",
              "        [0.6285],\n",
              "        [0.6285],\n",
              "        [0.6285],\n",
              "        [0.6284]], grad_fn=<SigmoidBackward0>)"
            ]
          },
          "metadata": {},
          "execution_count": 37
        }
      ]
    },
    {
      "cell_type": "code",
      "source": [
        "model1.l1.weight"
      ],
      "metadata": {
        "colab": {
          "base_uri": "https://localhost:8080/"
        },
        "id": "61RwKMLLxykz",
        "outputId": "26010614-b56c-4dac-83f4-ce2f9b44135e"
      },
      "execution_count": 38,
      "outputs": [
        {
          "output_type": "execute_result",
          "data": {
            "text/plain": [
              "Parameter containing:\n",
              "tensor([[-0.2568,  0.0457,  0.2148, -0.3380, -0.2543],\n",
              "        [-0.2363, -0.4354,  0.0400, -0.2265, -0.0235],\n",
              "        [ 0.2452,  0.3620, -0.4448, -0.3277,  0.2637]], requires_grad=True)"
            ]
          },
          "metadata": {},
          "execution_count": 38
        }
      ]
    },
    {
      "cell_type": "code",
      "source": [
        "summary(model1, input_size=(20,5))"
      ],
      "metadata": {
        "colab": {
          "base_uri": "https://localhost:8080/"
        },
        "id": "XeTkmVXSyEAn",
        "outputId": "03103e82-c13b-4544-822e-0dc43ac69fad"
      },
      "execution_count": 39,
      "outputs": [
        {
          "output_type": "execute_result",
          "data": {
            "text/plain": [
              "==========================================================================================\n",
              "Layer (type:depth-idx)                   Output Shape              Param #\n",
              "==========================================================================================\n",
              "Model1                                   [20, 1]                   --\n",
              "├─Linear: 1-1                            [20, 3]                   18\n",
              "├─ReLU: 1-2                              [20, 3]                   --\n",
              "├─Linear: 1-3                            [20, 1]                   4\n",
              "├─Sigmoid: 1-4                           [20, 1]                   --\n",
              "==========================================================================================\n",
              "Total params: 22\n",
              "Trainable params: 22\n",
              "Non-trainable params: 0\n",
              "Total mult-adds (Units.MEGABYTES): 0.00\n",
              "==========================================================================================\n",
              "Input size (MB): 0.00\n",
              "Forward/backward pass size (MB): 0.00\n",
              "Params size (MB): 0.00\n",
              "Estimated Total Size (MB): 0.00\n",
              "=========================================================================================="
            ]
          },
          "metadata": {},
          "execution_count": 39
        }
      ]
    },
    {
      "cell_type": "code",
      "source": [],
      "metadata": {
        "id": "7ZsRzccPyWQA"
      },
      "execution_count": null,
      "outputs": []
    },
    {
      "cell_type": "markdown",
      "source": [
        "## use of container"
      ],
      "metadata": {
        "id": "I0k2DKGtzxV_"
      }
    },
    {
      "cell_type": "code",
      "source": [
        "class Model2(nn.Module):\n",
        "  def __init__(self, num_features):\n",
        "    super().__init__()\n",
        "    self.network = nn.Sequential(\n",
        "        nn.Linear(num_features, 3),\n",
        "        nn.ReLU(),\n",
        "        nn.Linear(3,1),\n",
        "        nn.Sigmoid()\n",
        "    )\n",
        "\n",
        "\n",
        "  def forward(self, features):\n",
        "    out = self.network(features)\n",
        "    return out"
      ],
      "metadata": {
        "id": "7ScsPTAoz0vx"
      },
      "execution_count": 41,
      "outputs": []
    },
    {
      "cell_type": "code",
      "source": [
        "model2 = Model2(features1.shape[1])"
      ],
      "metadata": {
        "id": "PTK_kDBK0QTC"
      },
      "execution_count": 42,
      "outputs": []
    },
    {
      "cell_type": "code",
      "source": [
        "model2(features1)"
      ],
      "metadata": {
        "colab": {
          "base_uri": "https://localhost:8080/"
        },
        "id": "4raueqrt0TE1",
        "outputId": "d59b18cd-d253-40ba-80d1-70e66a337294"
      },
      "execution_count": 44,
      "outputs": [
        {
          "output_type": "execute_result",
          "data": {
            "text/plain": [
              "tensor([[0.4863],\n",
              "        [0.4920],\n",
              "        [0.4788],\n",
              "        [0.4829],\n",
              "        [0.4847],\n",
              "        [0.4698],\n",
              "        [0.4895],\n",
              "        [0.5043],\n",
              "        [0.4957],\n",
              "        [0.4998],\n",
              "        [0.5081],\n",
              "        [0.4735],\n",
              "        [0.5074],\n",
              "        [0.4665],\n",
              "        [0.4858],\n",
              "        [0.4774],\n",
              "        [0.4590],\n",
              "        [0.4755],\n",
              "        [0.4951],\n",
              "        [0.4818]], grad_fn=<SigmoidBackward0>)"
            ]
          },
          "metadata": {},
          "execution_count": 44
        }
      ]
    },
    {
      "cell_type": "code",
      "source": [],
      "metadata": {
        "id": "hDQphDap0UFV"
      },
      "execution_count": null,
      "outputs": []
    }
  ]
}